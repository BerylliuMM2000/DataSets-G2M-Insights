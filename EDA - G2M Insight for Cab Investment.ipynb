{
 "cells": [
  {
   "cell_type": "code",
   "execution_count": 2,
   "id": "cbedd182",
   "metadata": {},
   "outputs": [],
   "source": [
    "# Import packages\n",
    "from numpy import *\n",
    "from pandas import *\n",
    "from matplotlib.pyplot import *\n",
    "from seaborn import *\n",
    "from xlrd import *\n",
    "from datetime import *"
   ]
  },
  {
   "cell_type": "code",
   "execution_count": 3,
   "id": "1529c6d6",
   "metadata": {},
   "outputs": [],
   "source": [
    "# Reading datasets\n",
    "cabData = read_csv(\"Cab_Data.csv\")\n",
    "city = read_csv(\"City.csv\")\n",
    "customerID = read_csv(\"Customer_ID.csv\")\n",
    "transactionID = read_csv(\"Transaction_ID.csv\")\n",
    "holiday = read_csv(\"Holiday.csv\")"
   ]
  },
  {
   "cell_type": "code",
   "execution_count": 4,
   "id": "f9a2cf09",
   "metadata": {},
   "outputs": [
    {
     "data": {
      "text/html": [
       "<div>\n",
       "<style scoped>\n",
       "    .dataframe tbody tr th:only-of-type {\n",
       "        vertical-align: middle;\n",
       "    }\n",
       "\n",
       "    .dataframe tbody tr th {\n",
       "        vertical-align: top;\n",
       "    }\n",
       "\n",
       "    .dataframe thead th {\n",
       "        text-align: right;\n",
       "    }\n",
       "</style>\n",
       "<table border=\"1\" class=\"dataframe\">\n",
       "  <thead>\n",
       "    <tr style=\"text-align: right;\">\n",
       "      <th></th>\n",
       "      <th>Date</th>\n",
       "      <th>Holiday</th>\n",
       "      <th>WeekDay</th>\n",
       "      <th>Month</th>\n",
       "      <th>Day</th>\n",
       "      <th>Year</th>\n",
       "    </tr>\n",
       "  </thead>\n",
       "  <tbody>\n",
       "    <tr>\n",
       "      <th>0</th>\n",
       "      <td>2004-07-04</td>\n",
       "      <td>4th of July</td>\n",
       "      <td>Sunday</td>\n",
       "      <td>7</td>\n",
       "      <td>4</td>\n",
       "      <td>2004</td>\n",
       "    </tr>\n",
       "    <tr>\n",
       "      <th>1</th>\n",
       "      <td>2005-07-04</td>\n",
       "      <td>4th of July</td>\n",
       "      <td>Monday</td>\n",
       "      <td>7</td>\n",
       "      <td>4</td>\n",
       "      <td>2005</td>\n",
       "    </tr>\n",
       "    <tr>\n",
       "      <th>2</th>\n",
       "      <td>2006-07-04</td>\n",
       "      <td>4th of July</td>\n",
       "      <td>Tuesday</td>\n",
       "      <td>7</td>\n",
       "      <td>4</td>\n",
       "      <td>2006</td>\n",
       "    </tr>\n",
       "    <tr>\n",
       "      <th>3</th>\n",
       "      <td>2007-07-04</td>\n",
       "      <td>4th of July</td>\n",
       "      <td>Wednesday</td>\n",
       "      <td>7</td>\n",
       "      <td>4</td>\n",
       "      <td>2007</td>\n",
       "    </tr>\n",
       "    <tr>\n",
       "      <th>4</th>\n",
       "      <td>2008-07-04</td>\n",
       "      <td>4th of July</td>\n",
       "      <td>Friday</td>\n",
       "      <td>7</td>\n",
       "      <td>4</td>\n",
       "      <td>2008</td>\n",
       "    </tr>\n",
       "  </tbody>\n",
       "</table>\n",
       "</div>"
      ],
      "text/plain": [
       "        Date      Holiday    WeekDay  Month  Day  Year\n",
       "0 2004-07-04  4th of July     Sunday      7    4  2004\n",
       "1 2005-07-04  4th of July     Monday      7    4  2005\n",
       "2 2006-07-04  4th of July    Tuesday      7    4  2006\n",
       "3 2007-07-04  4th of July  Wednesday      7    4  2007\n",
       "4 2008-07-04  4th of July     Friday      7    4  2008"
      ]
     },
     "execution_count": 4,
     "metadata": {},
     "output_type": "execute_result"
    }
   ],
   "source": [
    "# Dataframe specifying all holiday dates\n",
    "# Convert date entries to pandas datetime\n",
    "holiday[\"Date\"] = to_datetime(holiday[\"Date\"])\n",
    "holiday.head(5)"
   ]
  },
  {
   "cell_type": "code",
   "execution_count": 5,
   "id": "f9ba0219",
   "metadata": {},
   "outputs": [
    {
     "data": {
      "text/html": [
       "<div>\n",
       "<style scoped>\n",
       "    .dataframe tbody tr th:only-of-type {\n",
       "        vertical-align: middle;\n",
       "    }\n",
       "\n",
       "    .dataframe tbody tr th {\n",
       "        vertical-align: top;\n",
       "    }\n",
       "\n",
       "    .dataframe thead th {\n",
       "        text-align: right;\n",
       "    }\n",
       "</style>\n",
       "<table border=\"1\" class=\"dataframe\">\n",
       "  <thead>\n",
       "    <tr style=\"text-align: right;\">\n",
       "      <th></th>\n",
       "      <th>Transaction ID</th>\n",
       "      <th>Date of Travel</th>\n",
       "      <th>Company</th>\n",
       "      <th>City</th>\n",
       "      <th>KM Travelled</th>\n",
       "      <th>Price Charged</th>\n",
       "      <th>Cost of Trip</th>\n",
       "    </tr>\n",
       "  </thead>\n",
       "  <tbody>\n",
       "    <tr>\n",
       "      <th>0</th>\n",
       "      <td>10000011</td>\n",
       "      <td>42377</td>\n",
       "      <td>Pink Cab</td>\n",
       "      <td>ATLANTA GA</td>\n",
       "      <td>30.45</td>\n",
       "      <td>370.95</td>\n",
       "      <td>313.635</td>\n",
       "    </tr>\n",
       "    <tr>\n",
       "      <th>1</th>\n",
       "      <td>10000012</td>\n",
       "      <td>42375</td>\n",
       "      <td>Pink Cab</td>\n",
       "      <td>ATLANTA GA</td>\n",
       "      <td>28.62</td>\n",
       "      <td>358.52</td>\n",
       "      <td>334.854</td>\n",
       "    </tr>\n",
       "    <tr>\n",
       "      <th>2</th>\n",
       "      <td>10000013</td>\n",
       "      <td>42371</td>\n",
       "      <td>Pink Cab</td>\n",
       "      <td>ATLANTA GA</td>\n",
       "      <td>9.04</td>\n",
       "      <td>125.20</td>\n",
       "      <td>97.632</td>\n",
       "    </tr>\n",
       "    <tr>\n",
       "      <th>3</th>\n",
       "      <td>10000014</td>\n",
       "      <td>42376</td>\n",
       "      <td>Pink Cab</td>\n",
       "      <td>ATLANTA GA</td>\n",
       "      <td>33.17</td>\n",
       "      <td>377.40</td>\n",
       "      <td>351.602</td>\n",
       "    </tr>\n",
       "    <tr>\n",
       "      <th>4</th>\n",
       "      <td>10000015</td>\n",
       "      <td>42372</td>\n",
       "      <td>Pink Cab</td>\n",
       "      <td>ATLANTA GA</td>\n",
       "      <td>8.73</td>\n",
       "      <td>114.62</td>\n",
       "      <td>97.776</td>\n",
       "    </tr>\n",
       "  </tbody>\n",
       "</table>\n",
       "</div>"
      ],
      "text/plain": [
       "   Transaction ID  Date of Travel   Company        City  KM Travelled  \\\n",
       "0        10000011           42377  Pink Cab  ATLANTA GA         30.45   \n",
       "1        10000012           42375  Pink Cab  ATLANTA GA         28.62   \n",
       "2        10000013           42371  Pink Cab  ATLANTA GA          9.04   \n",
       "3        10000014           42376  Pink Cab  ATLANTA GA         33.17   \n",
       "4        10000015           42372  Pink Cab  ATLANTA GA          8.73   \n",
       "\n",
       "   Price Charged  Cost of Trip  \n",
       "0         370.95       313.635  \n",
       "1         358.52       334.854  \n",
       "2         125.20        97.632  \n",
       "3         377.40       351.602  \n",
       "4         114.62        97.776  "
      ]
     },
     "execution_count": 5,
     "metadata": {},
     "output_type": "execute_result"
    }
   ],
   "source": [
    "cabData.head(5)"
   ]
  },
  {
   "cell_type": "code",
   "execution_count": 6,
   "id": "cf8a920b",
   "metadata": {},
   "outputs": [
    {
     "data": {
      "text/html": [
       "<div>\n",
       "<style scoped>\n",
       "    .dataframe tbody tr th:only-of-type {\n",
       "        vertical-align: middle;\n",
       "    }\n",
       "\n",
       "    .dataframe tbody tr th {\n",
       "        vertical-align: top;\n",
       "    }\n",
       "\n",
       "    .dataframe thead th {\n",
       "        text-align: right;\n",
       "    }\n",
       "</style>\n",
       "<table border=\"1\" class=\"dataframe\">\n",
       "  <thead>\n",
       "    <tr style=\"text-align: right;\">\n",
       "      <th></th>\n",
       "      <th>City</th>\n",
       "      <th>Population</th>\n",
       "      <th>Users</th>\n",
       "    </tr>\n",
       "  </thead>\n",
       "  <tbody>\n",
       "    <tr>\n",
       "      <th>0</th>\n",
       "      <td>NEW YORK NY</td>\n",
       "      <td>8,405,837</td>\n",
       "      <td>302,149</td>\n",
       "    </tr>\n",
       "    <tr>\n",
       "      <th>1</th>\n",
       "      <td>CHICAGO IL</td>\n",
       "      <td>1,955,130</td>\n",
       "      <td>164,468</td>\n",
       "    </tr>\n",
       "    <tr>\n",
       "      <th>2</th>\n",
       "      <td>LOS ANGELES CA</td>\n",
       "      <td>1,595,037</td>\n",
       "      <td>144,132</td>\n",
       "    </tr>\n",
       "    <tr>\n",
       "      <th>3</th>\n",
       "      <td>MIAMI FL</td>\n",
       "      <td>1,339,155</td>\n",
       "      <td>17,675</td>\n",
       "    </tr>\n",
       "    <tr>\n",
       "      <th>4</th>\n",
       "      <td>SILICON VALLEY</td>\n",
       "      <td>1,177,609</td>\n",
       "      <td>27,247</td>\n",
       "    </tr>\n",
       "  </tbody>\n",
       "</table>\n",
       "</div>"
      ],
      "text/plain": [
       "             City   Population      Users\n",
       "0     NEW YORK NY   8,405,837    302,149 \n",
       "1      CHICAGO IL   1,955,130    164,468 \n",
       "2  LOS ANGELES CA   1,595,037    144,132 \n",
       "3        MIAMI FL   1,339,155     17,675 \n",
       "4  SILICON VALLEY   1,177,609     27,247 "
      ]
     },
     "execution_count": 6,
     "metadata": {},
     "output_type": "execute_result"
    }
   ],
   "source": [
    "city.head(5)"
   ]
  },
  {
   "cell_type": "code",
   "execution_count": 7,
   "id": "bd6c02ee",
   "metadata": {},
   "outputs": [
    {
     "data": {
      "text/html": [
       "<div>\n",
       "<style scoped>\n",
       "    .dataframe tbody tr th:only-of-type {\n",
       "        vertical-align: middle;\n",
       "    }\n",
       "\n",
       "    .dataframe tbody tr th {\n",
       "        vertical-align: top;\n",
       "    }\n",
       "\n",
       "    .dataframe thead th {\n",
       "        text-align: right;\n",
       "    }\n",
       "</style>\n",
       "<table border=\"1\" class=\"dataframe\">\n",
       "  <thead>\n",
       "    <tr style=\"text-align: right;\">\n",
       "      <th></th>\n",
       "      <th>Customer ID</th>\n",
       "      <th>Gender</th>\n",
       "      <th>Age</th>\n",
       "      <th>Income (USD/Month)</th>\n",
       "    </tr>\n",
       "  </thead>\n",
       "  <tbody>\n",
       "    <tr>\n",
       "      <th>0</th>\n",
       "      <td>29290</td>\n",
       "      <td>Male</td>\n",
       "      <td>28</td>\n",
       "      <td>10813</td>\n",
       "    </tr>\n",
       "    <tr>\n",
       "      <th>1</th>\n",
       "      <td>27703</td>\n",
       "      <td>Male</td>\n",
       "      <td>27</td>\n",
       "      <td>9237</td>\n",
       "    </tr>\n",
       "    <tr>\n",
       "      <th>2</th>\n",
       "      <td>28712</td>\n",
       "      <td>Male</td>\n",
       "      <td>53</td>\n",
       "      <td>11242</td>\n",
       "    </tr>\n",
       "    <tr>\n",
       "      <th>3</th>\n",
       "      <td>28020</td>\n",
       "      <td>Male</td>\n",
       "      <td>23</td>\n",
       "      <td>23327</td>\n",
       "    </tr>\n",
       "    <tr>\n",
       "      <th>4</th>\n",
       "      <td>27182</td>\n",
       "      <td>Male</td>\n",
       "      <td>33</td>\n",
       "      <td>8536</td>\n",
       "    </tr>\n",
       "  </tbody>\n",
       "</table>\n",
       "</div>"
      ],
      "text/plain": [
       "   Customer ID Gender  Age  Income (USD/Month)\n",
       "0        29290   Male   28               10813\n",
       "1        27703   Male   27                9237\n",
       "2        28712   Male   53               11242\n",
       "3        28020   Male   23               23327\n",
       "4        27182   Male   33                8536"
      ]
     },
     "execution_count": 7,
     "metadata": {},
     "output_type": "execute_result"
    }
   ],
   "source": [
    "customerID.head(5)"
   ]
  },
  {
   "cell_type": "code",
   "execution_count": 8,
   "id": "067f6ef7",
   "metadata": {},
   "outputs": [
    {
     "data": {
      "text/html": [
       "<div>\n",
       "<style scoped>\n",
       "    .dataframe tbody tr th:only-of-type {\n",
       "        vertical-align: middle;\n",
       "    }\n",
       "\n",
       "    .dataframe tbody tr th {\n",
       "        vertical-align: top;\n",
       "    }\n",
       "\n",
       "    .dataframe thead th {\n",
       "        text-align: right;\n",
       "    }\n",
       "</style>\n",
       "<table border=\"1\" class=\"dataframe\">\n",
       "  <thead>\n",
       "    <tr style=\"text-align: right;\">\n",
       "      <th></th>\n",
       "      <th>Transaction ID</th>\n",
       "      <th>Customer ID</th>\n",
       "      <th>Payment_Mode</th>\n",
       "    </tr>\n",
       "  </thead>\n",
       "  <tbody>\n",
       "    <tr>\n",
       "      <th>0</th>\n",
       "      <td>10000011</td>\n",
       "      <td>29290</td>\n",
       "      <td>Card</td>\n",
       "    </tr>\n",
       "    <tr>\n",
       "      <th>1</th>\n",
       "      <td>10000012</td>\n",
       "      <td>27703</td>\n",
       "      <td>Card</td>\n",
       "    </tr>\n",
       "    <tr>\n",
       "      <th>2</th>\n",
       "      <td>10000013</td>\n",
       "      <td>28712</td>\n",
       "      <td>Cash</td>\n",
       "    </tr>\n",
       "    <tr>\n",
       "      <th>3</th>\n",
       "      <td>10000014</td>\n",
       "      <td>28020</td>\n",
       "      <td>Cash</td>\n",
       "    </tr>\n",
       "    <tr>\n",
       "      <th>4</th>\n",
       "      <td>10000015</td>\n",
       "      <td>27182</td>\n",
       "      <td>Card</td>\n",
       "    </tr>\n",
       "  </tbody>\n",
       "</table>\n",
       "</div>"
      ],
      "text/plain": [
       "   Transaction ID  Customer ID Payment_Mode\n",
       "0        10000011        29290         Card\n",
       "1        10000012        27703         Card\n",
       "2        10000013        28712         Cash\n",
       "3        10000014        28020         Cash\n",
       "4        10000015        27182         Card"
      ]
     },
     "execution_count": 8,
     "metadata": {},
     "output_type": "execute_result"
    }
   ],
   "source": [
    "transactionID.head(5)"
   ]
  },
  {
   "cell_type": "code",
   "execution_count": 9,
   "id": "9a60ce04",
   "metadata": {},
   "outputs": [
    {
     "name": "stdout",
     "output_type": "stream",
     "text": [
      "Cab Data: (359392, 7)\n",
      "City: (20, 3)\n",
      "Customer ID: (49171, 4)\n",
      "Transaction ID: (440098, 3)\n"
     ]
    }
   ],
   "source": [
    "# Number of observations and features\n",
    "print(\"Cab Data:\", cabData.shape)\n",
    "print(\"City:\", city.shape)\n",
    "print(\"Customer ID:\", customerID.shape)\n",
    "print(\"Transaction ID:\", transactionID.shape)"
   ]
  },
  {
   "cell_type": "markdown",
   "id": "f665060e",
   "metadata": {},
   "source": [
    "---\n",
    "\n",
    "## Data processing\n",
    "\n",
    "- Checking abnormal values\n"
   ]
  },
  {
   "cell_type": "code",
   "execution_count": 10,
   "id": "76e1aaa1",
   "metadata": {},
   "outputs": [
    {
     "name": "stdout",
     "output_type": "stream",
     "text": [
      "0\n",
      "0\n",
      "(0, 7)\n",
      "0\n",
      "0\n",
      "(0, 3)\n",
      "0\n",
      "0\n",
      "(0, 4)\n",
      "0\n",
      "0\n",
      "(0, 3)\n",
      "No null, N/A, or duplicate values are found.\n"
     ]
    }
   ],
   "source": [
    "# Checking null, N/A, and duplicated values\n",
    "print(cabData.isnull().sum().sum())\n",
    "print(cabData.isna().sum().sum())\n",
    "cabDataDuplicated = cabData[cabData.duplicated()]\n",
    "print(cabDataDuplicated.shape)\n",
    "\n",
    "print(city.isnull().sum().sum())\n",
    "print(city.isna().sum().sum())\n",
    "cityDuplicated = city[city.duplicated()]\n",
    "print(cityDuplicated.shape)\n",
    "\n",
    "print(customerID.isnull().sum().sum())\n",
    "print(customerID.isna().sum().sum())\n",
    "customerIDDuplicated = customerID[customerID.duplicated()]\n",
    "print(customerIDDuplicated.shape)\n",
    "\n",
    "print(transactionID.isnull().sum().sum())\n",
    "print(transactionID.isna().sum().sum())\n",
    "transactionIDDuplicated = transactionID[transactionID.duplicated()]\n",
    "print(transactionIDDuplicated.shape)\n",
    "print(\"No null, N/A, or duplicate values are found.\")"
   ]
  },
  {
   "cell_type": "markdown",
   "id": "e8ffba0d",
   "metadata": {},
   "source": [
    "- Add another column specifying profit made from each trip"
   ]
  },
  {
   "cell_type": "code",
   "execution_count": 11,
   "id": "04d73b4d",
   "metadata": {},
   "outputs": [],
   "source": [
    "cabData[\"Profit\"] = cabData[\"Price Charged\"] - cabData[\"Cost of Trip\"]"
   ]
  },
  {
   "cell_type": "markdown",
   "id": "83c1f355",
   "metadata": {},
   "source": [
    "- Outlier detection and removal"
   ]
  },
  {
   "cell_type": "code",
   "execution_count": 12,
   "id": "76427efa",
   "metadata": {},
   "outputs": [],
   "source": [
    "yellowCabData = cabData[cabData[\"Company\"] == \"Yellow Cab\"]\n",
    "pinkCabData = cabData[cabData[\"Company\"] == \"Pink Cab\"]\n",
    "yellowCabData = yellowCabData[abs(yellowCabData.Profit - yellowCabData.Profit.mean()) <= (1.5 * yellowCabData.Profit.std())]\n",
    "pinkCabData = pinkCabData[abs(pinkCabData.Profit - pinkCabData.Profit.mean()) <= (1.5 * pinkCabData.Profit.std())]\n",
    "cabData = concat([yellowCabData, pinkCabData], ignore_index=True)"
   ]
  },
  {
   "cell_type": "markdown",
   "id": "feac5ffd",
   "metadata": {},
   "source": [
    "- Merge dataframes\n",
    "\n",
    "We can see from the feature names that the four datasets can be joined together to one. Namely, cab_data shares ```city``` with city and ```transaction ID``` with transaction_ID; and transaction_ID shares ```customer ID``` with dataset customer_ID. Therefore, we propose data processing below to merge into one dataset."
   ]
  },
  {
   "cell_type": "code",
   "execution_count": 13,
   "id": "ea69a1ce",
   "metadata": {},
   "outputs": [],
   "source": [
    "allTransactions = merge(cabData, transactionID)\n",
    "allTransactions = merge(allTransactions, customerID)\n",
    "allTransactions = merge(allTransactions, city)"
   ]
  },
  {
   "cell_type": "code",
   "execution_count": 14,
   "id": "8f1051c9",
   "metadata": {},
   "outputs": [
    {
     "name": "stdout",
     "output_type": "stream",
     "text": [
      "(326061, 15)\n",
      "Transaction ID          int64\n",
      "Date of Travel          int64\n",
      "Company                object\n",
      "City                   object\n",
      "KM Travelled          float64\n",
      "Price Charged         float64\n",
      "Cost of Trip          float64\n",
      "Profit                float64\n",
      "Customer ID             int64\n",
      "Payment_Mode           object\n",
      "Gender                 object\n",
      "Age                     int64\n",
      "Income (USD/Month)      int64\n",
      "Population             object\n",
      "Users                  object\n",
      "dtype: object\n"
     ]
    },
    {
     "data": {
      "text/html": [
       "<div>\n",
       "<style scoped>\n",
       "    .dataframe tbody tr th:only-of-type {\n",
       "        vertical-align: middle;\n",
       "    }\n",
       "\n",
       "    .dataframe tbody tr th {\n",
       "        vertical-align: top;\n",
       "    }\n",
       "\n",
       "    .dataframe thead th {\n",
       "        text-align: right;\n",
       "    }\n",
       "</style>\n",
       "<table border=\"1\" class=\"dataframe\">\n",
       "  <thead>\n",
       "    <tr style=\"text-align: right;\">\n",
       "      <th></th>\n",
       "      <th>Transaction ID</th>\n",
       "      <th>Date of Travel</th>\n",
       "      <th>Company</th>\n",
       "      <th>City</th>\n",
       "      <th>KM Travelled</th>\n",
       "      <th>Price Charged</th>\n",
       "      <th>Cost of Trip</th>\n",
       "      <th>Profit</th>\n",
       "      <th>Customer ID</th>\n",
       "      <th>Payment_Mode</th>\n",
       "      <th>Gender</th>\n",
       "      <th>Age</th>\n",
       "      <th>Income (USD/Month)</th>\n",
       "      <th>Population</th>\n",
       "      <th>Users</th>\n",
       "    </tr>\n",
       "  </thead>\n",
       "  <tbody>\n",
       "    <tr>\n",
       "      <th>0</th>\n",
       "      <td>10000386</td>\n",
       "      <td>42372</td>\n",
       "      <td>Yellow Cab</td>\n",
       "      <td>ATLANTA GA</td>\n",
       "      <td>10.60</td>\n",
       "      <td>364.62</td>\n",
       "      <td>132.2880</td>\n",
       "      <td>232.3320</td>\n",
       "      <td>27884</td>\n",
       "      <td>Cash</td>\n",
       "      <td>Male</td>\n",
       "      <td>32</td>\n",
       "      <td>13505</td>\n",
       "      <td>814,885</td>\n",
       "      <td>24,701</td>\n",
       "    </tr>\n",
       "    <tr>\n",
       "      <th>1</th>\n",
       "      <td>10011294</td>\n",
       "      <td>42426</td>\n",
       "      <td>Yellow Cab</td>\n",
       "      <td>ATLANTA GA</td>\n",
       "      <td>18.43</td>\n",
       "      <td>434.92</td>\n",
       "      <td>245.4876</td>\n",
       "      <td>189.4324</td>\n",
       "      <td>27884</td>\n",
       "      <td>Card</td>\n",
       "      <td>Male</td>\n",
       "      <td>32</td>\n",
       "      <td>13505</td>\n",
       "      <td>814,885</td>\n",
       "      <td>24,701</td>\n",
       "    </tr>\n",
       "    <tr>\n",
       "      <th>2</th>\n",
       "      <td>10062284</td>\n",
       "      <td>42594</td>\n",
       "      <td>Yellow Cab</td>\n",
       "      <td>ATLANTA GA</td>\n",
       "      <td>40.80</td>\n",
       "      <td>629.34</td>\n",
       "      <td>533.6640</td>\n",
       "      <td>95.6760</td>\n",
       "      <td>27884</td>\n",
       "      <td>Card</td>\n",
       "      <td>Male</td>\n",
       "      <td>32</td>\n",
       "      <td>13505</td>\n",
       "      <td>814,885</td>\n",
       "      <td>24,701</td>\n",
       "    </tr>\n",
       "    <tr>\n",
       "      <th>3</th>\n",
       "      <td>10099530</td>\n",
       "      <td>42673</td>\n",
       "      <td>Yellow Cab</td>\n",
       "      <td>ATLANTA GA</td>\n",
       "      <td>22.22</td>\n",
       "      <td>404.35</td>\n",
       "      <td>274.6392</td>\n",
       "      <td>129.7108</td>\n",
       "      <td>27884</td>\n",
       "      <td>Cash</td>\n",
       "      <td>Male</td>\n",
       "      <td>32</td>\n",
       "      <td>13505</td>\n",
       "      <td>814,885</td>\n",
       "      <td>24,701</td>\n",
       "    </tr>\n",
       "    <tr>\n",
       "      <th>4</th>\n",
       "      <td>10007260</td>\n",
       "      <td>42412</td>\n",
       "      <td>Pink Cab</td>\n",
       "      <td>ATLANTA GA</td>\n",
       "      <td>27.44</td>\n",
       "      <td>380.45</td>\n",
       "      <td>293.6080</td>\n",
       "      <td>86.8420</td>\n",
       "      <td>27884</td>\n",
       "      <td>Cash</td>\n",
       "      <td>Male</td>\n",
       "      <td>32</td>\n",
       "      <td>13505</td>\n",
       "      <td>814,885</td>\n",
       "      <td>24,701</td>\n",
       "    </tr>\n",
       "  </tbody>\n",
       "</table>\n",
       "</div>"
      ],
      "text/plain": [
       "   Transaction ID  Date of Travel     Company        City  KM Travelled  \\\n",
       "0        10000386           42372  Yellow Cab  ATLANTA GA         10.60   \n",
       "1        10011294           42426  Yellow Cab  ATLANTA GA         18.43   \n",
       "2        10062284           42594  Yellow Cab  ATLANTA GA         40.80   \n",
       "3        10099530           42673  Yellow Cab  ATLANTA GA         22.22   \n",
       "4        10007260           42412    Pink Cab  ATLANTA GA         27.44   \n",
       "\n",
       "   Price Charged  Cost of Trip    Profit  Customer ID Payment_Mode Gender  \\\n",
       "0         364.62      132.2880  232.3320        27884         Cash   Male   \n",
       "1         434.92      245.4876  189.4324        27884         Card   Male   \n",
       "2         629.34      533.6640   95.6760        27884         Card   Male   \n",
       "3         404.35      274.6392  129.7108        27884         Cash   Male   \n",
       "4         380.45      293.6080   86.8420        27884         Cash   Male   \n",
       "\n",
       "   Age  Income (USD/Month) Population     Users  \n",
       "0   32               13505   814,885    24,701   \n",
       "1   32               13505   814,885    24,701   \n",
       "2   32               13505   814,885    24,701   \n",
       "3   32               13505   814,885    24,701   \n",
       "4   32               13505   814,885    24,701   "
      ]
     },
     "execution_count": 14,
     "metadata": {},
     "output_type": "execute_result"
    }
   ],
   "source": [
    "print(allTransactions.shape)\n",
    "print(allTransactions.dtypes)\n",
    "allTransactions.head(5)"
   ]
  },
  {
   "cell_type": "markdown",
   "id": "1da2fede",
   "metadata": {},
   "source": [
    "- Add another column specifying profit made from each trip"
   ]
  },
  {
   "cell_type": "code",
   "execution_count": 15,
   "id": "147e5fef",
   "metadata": {},
   "outputs": [],
   "source": [
    "allTransactions[\"Profit\"] = allTransactions[\"Price Charged\"] - allTransactions[\"Cost of Trip\"]"
   ]
  },
  {
   "cell_type": "markdown",
   "id": "e3c89139",
   "metadata": {},
   "source": [
    "- Converting 5-digit date entries to pandas datetime format"
   ]
  },
  {
   "cell_type": "code",
   "execution_count": 16,
   "id": "8a5f421b",
   "metadata": {},
   "outputs": [],
   "source": [
    "allTransactions[\"Date of Travel\"] = allTransactions[\"Date of Travel\"].apply(lambda x: xldate.xldate_as_datetime(x, 0))"
   ]
  },
  {
   "cell_type": "code",
   "execution_count": 17,
   "id": "93107625",
   "metadata": {},
   "outputs": [
    {
     "data": {
      "text/html": [
       "<div>\n",
       "<style scoped>\n",
       "    .dataframe tbody tr th:only-of-type {\n",
       "        vertical-align: middle;\n",
       "    }\n",
       "\n",
       "    .dataframe tbody tr th {\n",
       "        vertical-align: top;\n",
       "    }\n",
       "\n",
       "    .dataframe thead th {\n",
       "        text-align: right;\n",
       "    }\n",
       "</style>\n",
       "<table border=\"1\" class=\"dataframe\">\n",
       "  <thead>\n",
       "    <tr style=\"text-align: right;\">\n",
       "      <th></th>\n",
       "      <th>Transaction ID</th>\n",
       "      <th>Date of Travel</th>\n",
       "      <th>Company</th>\n",
       "      <th>City</th>\n",
       "      <th>KM Travelled</th>\n",
       "      <th>Price Charged</th>\n",
       "      <th>Cost of Trip</th>\n",
       "      <th>Profit</th>\n",
       "      <th>Customer ID</th>\n",
       "      <th>Payment_Mode</th>\n",
       "      <th>Gender</th>\n",
       "      <th>Age</th>\n",
       "      <th>Income (USD/Month)</th>\n",
       "      <th>Population</th>\n",
       "      <th>Users</th>\n",
       "    </tr>\n",
       "  </thead>\n",
       "  <tbody>\n",
       "    <tr>\n",
       "      <th>0</th>\n",
       "      <td>10000386</td>\n",
       "      <td>2016-01-03</td>\n",
       "      <td>Yellow Cab</td>\n",
       "      <td>ATLANTA GA</td>\n",
       "      <td>10.60</td>\n",
       "      <td>364.62</td>\n",
       "      <td>132.2880</td>\n",
       "      <td>232.3320</td>\n",
       "      <td>27884</td>\n",
       "      <td>Cash</td>\n",
       "      <td>Male</td>\n",
       "      <td>32</td>\n",
       "      <td>13505</td>\n",
       "      <td>814,885</td>\n",
       "      <td>24,701</td>\n",
       "    </tr>\n",
       "    <tr>\n",
       "      <th>1</th>\n",
       "      <td>10011294</td>\n",
       "      <td>2016-02-26</td>\n",
       "      <td>Yellow Cab</td>\n",
       "      <td>ATLANTA GA</td>\n",
       "      <td>18.43</td>\n",
       "      <td>434.92</td>\n",
       "      <td>245.4876</td>\n",
       "      <td>189.4324</td>\n",
       "      <td>27884</td>\n",
       "      <td>Card</td>\n",
       "      <td>Male</td>\n",
       "      <td>32</td>\n",
       "      <td>13505</td>\n",
       "      <td>814,885</td>\n",
       "      <td>24,701</td>\n",
       "    </tr>\n",
       "    <tr>\n",
       "      <th>2</th>\n",
       "      <td>10062284</td>\n",
       "      <td>2016-08-12</td>\n",
       "      <td>Yellow Cab</td>\n",
       "      <td>ATLANTA GA</td>\n",
       "      <td>40.80</td>\n",
       "      <td>629.34</td>\n",
       "      <td>533.6640</td>\n",
       "      <td>95.6760</td>\n",
       "      <td>27884</td>\n",
       "      <td>Card</td>\n",
       "      <td>Male</td>\n",
       "      <td>32</td>\n",
       "      <td>13505</td>\n",
       "      <td>814,885</td>\n",
       "      <td>24,701</td>\n",
       "    </tr>\n",
       "    <tr>\n",
       "      <th>3</th>\n",
       "      <td>10099530</td>\n",
       "      <td>2016-10-30</td>\n",
       "      <td>Yellow Cab</td>\n",
       "      <td>ATLANTA GA</td>\n",
       "      <td>22.22</td>\n",
       "      <td>404.35</td>\n",
       "      <td>274.6392</td>\n",
       "      <td>129.7108</td>\n",
       "      <td>27884</td>\n",
       "      <td>Cash</td>\n",
       "      <td>Male</td>\n",
       "      <td>32</td>\n",
       "      <td>13505</td>\n",
       "      <td>814,885</td>\n",
       "      <td>24,701</td>\n",
       "    </tr>\n",
       "    <tr>\n",
       "      <th>4</th>\n",
       "      <td>10007260</td>\n",
       "      <td>2016-02-12</td>\n",
       "      <td>Pink Cab</td>\n",
       "      <td>ATLANTA GA</td>\n",
       "      <td>27.44</td>\n",
       "      <td>380.45</td>\n",
       "      <td>293.6080</td>\n",
       "      <td>86.8420</td>\n",
       "      <td>27884</td>\n",
       "      <td>Cash</td>\n",
       "      <td>Male</td>\n",
       "      <td>32</td>\n",
       "      <td>13505</td>\n",
       "      <td>814,885</td>\n",
       "      <td>24,701</td>\n",
       "    </tr>\n",
       "  </tbody>\n",
       "</table>\n",
       "</div>"
      ],
      "text/plain": [
       "   Transaction ID Date of Travel     Company        City  KM Travelled  \\\n",
       "0        10000386     2016-01-03  Yellow Cab  ATLANTA GA         10.60   \n",
       "1        10011294     2016-02-26  Yellow Cab  ATLANTA GA         18.43   \n",
       "2        10062284     2016-08-12  Yellow Cab  ATLANTA GA         40.80   \n",
       "3        10099530     2016-10-30  Yellow Cab  ATLANTA GA         22.22   \n",
       "4        10007260     2016-02-12    Pink Cab  ATLANTA GA         27.44   \n",
       "\n",
       "   Price Charged  Cost of Trip    Profit  Customer ID Payment_Mode Gender  \\\n",
       "0         364.62      132.2880  232.3320        27884         Cash   Male   \n",
       "1         434.92      245.4876  189.4324        27884         Card   Male   \n",
       "2         629.34      533.6640   95.6760        27884         Card   Male   \n",
       "3         404.35      274.6392  129.7108        27884         Cash   Male   \n",
       "4         380.45      293.6080   86.8420        27884         Cash   Male   \n",
       "\n",
       "   Age  Income (USD/Month) Population     Users  \n",
       "0   32               13505   814,885    24,701   \n",
       "1   32               13505   814,885    24,701   \n",
       "2   32               13505   814,885    24,701   \n",
       "3   32               13505   814,885    24,701   \n",
       "4   32               13505   814,885    24,701   "
      ]
     },
     "execution_count": 17,
     "metadata": {},
     "output_type": "execute_result"
    }
   ],
   "source": [
    "allTransactions.head(5)"
   ]
  },
  {
   "cell_type": "markdown",
   "id": "6b14bc7e",
   "metadata": {},
   "source": [
    "- Checking whether the given date is a weekend or holiday"
   ]
  },
  {
   "cell_type": "code",
   "execution_count": 18,
   "id": "20b6ca5e",
   "metadata": {},
   "outputs": [],
   "source": [
    "# Convert datetime to day of week, 0 - Monday, 6 - Sunday\n",
    "allTransactions[\"Day of Week\"] = allTransactions[\"Date of Travel\"].apply(lambda x: x.weekday())\n",
    "allTransactions[\"Weekend or Holiday\"] = where(allTransactions[\"Date of Travel\"].isin(holiday.Date) | allTransactions[\"Day of Week\"].isin([5,6]), 1, 0)"
   ]
  },
  {
   "cell_type": "markdown",
   "id": "69eaaba8",
   "metadata": {},
   "source": [
    "A glance of the final version of the dataset:"
   ]
  },
  {
   "cell_type": "code",
   "execution_count": 19,
   "id": "434b6332",
   "metadata": {},
   "outputs": [
    {
     "data": {
      "text/html": [
       "<div>\n",
       "<style scoped>\n",
       "    .dataframe tbody tr th:only-of-type {\n",
       "        vertical-align: middle;\n",
       "    }\n",
       "\n",
       "    .dataframe tbody tr th {\n",
       "        vertical-align: top;\n",
       "    }\n",
       "\n",
       "    .dataframe thead th {\n",
       "        text-align: right;\n",
       "    }\n",
       "</style>\n",
       "<table border=\"1\" class=\"dataframe\">\n",
       "  <thead>\n",
       "    <tr style=\"text-align: right;\">\n",
       "      <th></th>\n",
       "      <th>Transaction ID</th>\n",
       "      <th>Date of Travel</th>\n",
       "      <th>Company</th>\n",
       "      <th>City</th>\n",
       "      <th>KM Travelled</th>\n",
       "      <th>Price Charged</th>\n",
       "      <th>Cost of Trip</th>\n",
       "      <th>Profit</th>\n",
       "      <th>Customer ID</th>\n",
       "      <th>Payment_Mode</th>\n",
       "      <th>Gender</th>\n",
       "      <th>Age</th>\n",
       "      <th>Income (USD/Month)</th>\n",
       "      <th>Population</th>\n",
       "      <th>Users</th>\n",
       "      <th>Day of Week</th>\n",
       "      <th>Weekend or Holiday</th>\n",
       "    </tr>\n",
       "  </thead>\n",
       "  <tbody>\n",
       "    <tr>\n",
       "      <th>0</th>\n",
       "      <td>10000386</td>\n",
       "      <td>2016-01-03</td>\n",
       "      <td>Yellow Cab</td>\n",
       "      <td>ATLANTA GA</td>\n",
       "      <td>10.60</td>\n",
       "      <td>364.62</td>\n",
       "      <td>132.2880</td>\n",
       "      <td>232.3320</td>\n",
       "      <td>27884</td>\n",
       "      <td>Cash</td>\n",
       "      <td>Male</td>\n",
       "      <td>32</td>\n",
       "      <td>13505</td>\n",
       "      <td>814,885</td>\n",
       "      <td>24,701</td>\n",
       "      <td>6</td>\n",
       "      <td>1</td>\n",
       "    </tr>\n",
       "    <tr>\n",
       "      <th>1</th>\n",
       "      <td>10011294</td>\n",
       "      <td>2016-02-26</td>\n",
       "      <td>Yellow Cab</td>\n",
       "      <td>ATLANTA GA</td>\n",
       "      <td>18.43</td>\n",
       "      <td>434.92</td>\n",
       "      <td>245.4876</td>\n",
       "      <td>189.4324</td>\n",
       "      <td>27884</td>\n",
       "      <td>Card</td>\n",
       "      <td>Male</td>\n",
       "      <td>32</td>\n",
       "      <td>13505</td>\n",
       "      <td>814,885</td>\n",
       "      <td>24,701</td>\n",
       "      <td>4</td>\n",
       "      <td>0</td>\n",
       "    </tr>\n",
       "    <tr>\n",
       "      <th>2</th>\n",
       "      <td>10062284</td>\n",
       "      <td>2016-08-12</td>\n",
       "      <td>Yellow Cab</td>\n",
       "      <td>ATLANTA GA</td>\n",
       "      <td>40.80</td>\n",
       "      <td>629.34</td>\n",
       "      <td>533.6640</td>\n",
       "      <td>95.6760</td>\n",
       "      <td>27884</td>\n",
       "      <td>Card</td>\n",
       "      <td>Male</td>\n",
       "      <td>32</td>\n",
       "      <td>13505</td>\n",
       "      <td>814,885</td>\n",
       "      <td>24,701</td>\n",
       "      <td>4</td>\n",
       "      <td>0</td>\n",
       "    </tr>\n",
       "    <tr>\n",
       "      <th>3</th>\n",
       "      <td>10099530</td>\n",
       "      <td>2016-10-30</td>\n",
       "      <td>Yellow Cab</td>\n",
       "      <td>ATLANTA GA</td>\n",
       "      <td>22.22</td>\n",
       "      <td>404.35</td>\n",
       "      <td>274.6392</td>\n",
       "      <td>129.7108</td>\n",
       "      <td>27884</td>\n",
       "      <td>Cash</td>\n",
       "      <td>Male</td>\n",
       "      <td>32</td>\n",
       "      <td>13505</td>\n",
       "      <td>814,885</td>\n",
       "      <td>24,701</td>\n",
       "      <td>6</td>\n",
       "      <td>1</td>\n",
       "    </tr>\n",
       "    <tr>\n",
       "      <th>4</th>\n",
       "      <td>10007260</td>\n",
       "      <td>2016-02-12</td>\n",
       "      <td>Pink Cab</td>\n",
       "      <td>ATLANTA GA</td>\n",
       "      <td>27.44</td>\n",
       "      <td>380.45</td>\n",
       "      <td>293.6080</td>\n",
       "      <td>86.8420</td>\n",
       "      <td>27884</td>\n",
       "      <td>Cash</td>\n",
       "      <td>Male</td>\n",
       "      <td>32</td>\n",
       "      <td>13505</td>\n",
       "      <td>814,885</td>\n",
       "      <td>24,701</td>\n",
       "      <td>4</td>\n",
       "      <td>0</td>\n",
       "    </tr>\n",
       "  </tbody>\n",
       "</table>\n",
       "</div>"
      ],
      "text/plain": [
       "   Transaction ID Date of Travel     Company        City  KM Travelled  \\\n",
       "0        10000386     2016-01-03  Yellow Cab  ATLANTA GA         10.60   \n",
       "1        10011294     2016-02-26  Yellow Cab  ATLANTA GA         18.43   \n",
       "2        10062284     2016-08-12  Yellow Cab  ATLANTA GA         40.80   \n",
       "3        10099530     2016-10-30  Yellow Cab  ATLANTA GA         22.22   \n",
       "4        10007260     2016-02-12    Pink Cab  ATLANTA GA         27.44   \n",
       "\n",
       "   Price Charged  Cost of Trip    Profit  Customer ID Payment_Mode Gender  \\\n",
       "0         364.62      132.2880  232.3320        27884         Cash   Male   \n",
       "1         434.92      245.4876  189.4324        27884         Card   Male   \n",
       "2         629.34      533.6640   95.6760        27884         Card   Male   \n",
       "3         404.35      274.6392  129.7108        27884         Cash   Male   \n",
       "4         380.45      293.6080   86.8420        27884         Cash   Male   \n",
       "\n",
       "   Age  Income (USD/Month) Population     Users  Day of Week  \\\n",
       "0   32               13505   814,885    24,701             6   \n",
       "1   32               13505   814,885    24,701             4   \n",
       "2   32               13505   814,885    24,701             4   \n",
       "3   32               13505   814,885    24,701             6   \n",
       "4   32               13505   814,885    24,701             4   \n",
       "\n",
       "   Weekend or Holiday  \n",
       "0                   1  \n",
       "1                   0  \n",
       "2                   0  \n",
       "3                   1  \n",
       "4                   0  "
      ]
     },
     "execution_count": 19,
     "metadata": {},
     "output_type": "execute_result"
    }
   ],
   "source": [
    "allTransactions.head(5)"
   ]
  },
  {
   "cell_type": "markdown",
   "id": "e69683ba",
   "metadata": {},
   "source": [
    "---\n",
    "\n",
    "## Data Visualizations\n",
    "\n",
    "- #### Research question 1: Which company is more profitable?"
   ]
  },
  {
   "cell_type": "code",
   "execution_count": 20,
   "id": "28d4f640",
   "metadata": {},
   "outputs": [
    {
     "data": {
      "text/plain": [
       "Text(0.5, 1.0, 'Profit Distributions')"
      ]
     },
     "execution_count": 20,
     "metadata": {},
     "output_type": "execute_result"
    },
    {
     "data": {
      "image/png": "[encoded data removed]",
      "text/plain": [
       "<Figure size 432x288 with 1 Axes>"
      ]
     },
     "metadata": {
      "needs_background": "light"
     },
     "output_type": "display_data"
    }
   ],
   "source": [
    "boxplot(data = allTransactions, x = \"Company\", y = \"Profit\")\n",
    "title(\"Profit Distributions\")"
   ]
  },
  {
   "cell_type": "markdown",
   "id": "3e4805b1",
   "metadata": {},
   "source": [
    "From the plot we can see Yellow Cab is more profitable than Pink Cab overall. Also, Yellow Cab have more trips that yield a large amount of money. But what about profit per kilometer?"
   ]
  },
  {
   "cell_type": "code",
   "execution_count": 21,
   "id": "6a0b082c",
   "metadata": {},
   "outputs": [],
   "source": [
    "allTransactions[\"Profit per km\"] = allTransactions[\"Profit\"] / allTransactions[\"KM Travelled\"]"
   ]
  },
  {
   "cell_type": "code",
   "execution_count": 22,
   "id": "eacc88e7",
   "metadata": {},
   "outputs": [
    {
     "data": {
      "text/plain": [
       "Text(0.5, 1.0, 'Unit km Profit Distributions')"
      ]
     },
     "execution_count": 22,
     "metadata": {},
     "output_type": "execute_result"
    },
    {
     "data": {
      "image/png": "[encoded data removed]",
      "text/plain": [
       "<Figure size 432x288 with 1 Axes>"
      ]
     },
     "metadata": {
      "needs_background": "light"
     },
     "output_type": "display_data"
    }
   ],
   "source": [
    "boxplot(data = allTransactions, x = \"Company\", y = \"Profit per km\")\n",
    "title(\"Unit km Profit Distributions\")"
   ]
  },
  {
   "cell_type": "markdown",
   "id": "e5535d1a",
   "metadata": {},
   "source": [
    "Again, Yellow Cab still has higher unit profit than Pink Cab."
   ]
  },
  {
   "cell_type": "markdown",
   "id": "b6fcb056",
   "metadata": {},
   "source": [
    "- #### Research question 2: What are the customer distributions for the two companies? Are there any specific patterns?\n",
    "\n",
    "    ##### 2.1. *Different population groups*"
   ]
  },
  {
   "cell_type": "code",
   "execution_count": 23,
   "id": "c3bfd8f2",
   "metadata": {},
   "outputs": [
    {
     "name": "stdout",
     "output_type": "stream",
     "text": [
      "The men to women user ratio for the two companies are: 1.2555711939948393 for Pink Cab, and 1.3524351783657205 for Yellow Cab.\n"
     ]
    }
   ],
   "source": [
    "genderCounts = allTransactions.groupby(\"Company\")[\"Gender\"].value_counts()\n",
    "print(\"The men to women user ratio for the two companies are:\", genderCounts[0] / genderCounts[1], \"for Pink Cab, and\", genderCounts[2] / genderCounts[3], \"for Yellow Cab.\")"
   ]
  },
  {
   "cell_type": "markdown",
   "id": "a52e8aee",
   "metadata": {},
   "source": [
    "The gender distributions for the two companies are similar, with Yellow Cab slightly more favored by men users."
   ]
  },
  {
   "cell_type": "code",
   "execution_count": 24,
   "id": "7abb0c22",
   "metadata": {},
   "outputs": [
    {
     "name": "stderr",
     "output_type": "stream",
     "text": [
      "D:\\Anaconda\\lib\\site-packages\\seaborn\\distributions.py:2557: FutureWarning: `distplot` is a deprecated function and will be removed in a future version. Please adapt your code to use either `displot` (a figure-level function with similar flexibility) or `kdeplot` (an axes-level function for kernel density plots).\n",
      "  warnings.warn(msg, FutureWarning)\n",
      "D:\\Anaconda\\lib\\site-packages\\seaborn\\distributions.py:2557: FutureWarning: `distplot` is a deprecated function and will be removed in a future version. Please adapt your code to use either `displot` (a figure-level function with similar flexibility) or `kdeplot` (an axes-level function for kernel density plots).\n",
      "  warnings.warn(msg, FutureWarning)\n"
     ]
    },
    {
     "data": {
      "text/plain": [
       "Text(0.5, 1.0, 'Age Distributions')"
      ]
     },
     "execution_count": 24,
     "metadata": {},
     "output_type": "execute_result"
    },
    {
     "data": {
      "image/png": "[encoded data removed]",
      "text/plain": [
       "<Figure size 432x288 with 1 Axes>"
      ]
     },
     "metadata": {
      "needs_background": "light"
     },
     "output_type": "display_data"
    }
   ],
   "source": [
    "yellow = allTransactions[allTransactions[\"Company\"] == \"Yellow Cab\"]\n",
    "pink = allTransactions[allTransactions[\"Company\"] == \"Pink Cab\"]\n",
    "distplot(yellow[\"Age\"], hist=False, color = \"olive\")\n",
    "distplot(pink[\"Age\"], hist=False, color = \"crimson\")\n",
    "title(\"Age Distributions\")"
   ]
  },
  {
   "cell_type": "markdown",
   "id": "01da0de3",
   "metadata": {},
   "source": [
    "The age distribution for the two companies are very similar. One interesting aspect to notice is that the customers are generally within 20-40 years old, and there is a huge drop at the age of 40."
   ]
  },
  {
   "cell_type": "code",
   "execution_count": 25,
   "id": "057a91a5",
   "metadata": {},
   "outputs": [
    {
     "name": "stderr",
     "output_type": "stream",
     "text": [
      "D:\\Anaconda\\lib\\site-packages\\seaborn\\distributions.py:2557: FutureWarning: `distplot` is a deprecated function and will be removed in a future version. Please adapt your code to use either `displot` (a figure-level function with similar flexibility) or `kdeplot` (an axes-level function for kernel density plots).\n",
      "  warnings.warn(msg, FutureWarning)\n",
      "D:\\Anaconda\\lib\\site-packages\\seaborn\\distributions.py:2557: FutureWarning: `distplot` is a deprecated function and will be removed in a future version. Please adapt your code to use either `displot` (a figure-level function with similar flexibility) or `kdeplot` (an axes-level function for kernel density plots).\n",
      "  warnings.warn(msg, FutureWarning)\n"
     ]
    },
    {
     "data": {
      "text/plain": [
       "Text(0.5, 1.0, 'Income Distributions')"
      ]
     },
     "execution_count": 25,
     "metadata": {},
     "output_type": "execute_result"
    },
    {
     "data": {
      "image/png": "[encoded data removed]",
      "text/plain": [
       "<Figure size 432x288 with 1 Axes>"
      ]
     },
     "metadata": {
      "needs_background": "light"
     },
     "output_type": "display_data"
    }
   ],
   "source": [
    "distplot(yellow[\"Income (USD/Month)\"], hist=False, color = \"olive\")\n",
    "distplot(pink[\"Income (USD/Month)\"], hist=False, color = \"crimson\")\n",
    "title(\"Income Distributions\")"
   ]
  },
  {
   "cell_type": "markdown",
   "id": "cd8d3f63",
   "metadata": {},
   "source": [
    "Again, the distributions of customer income are very similar for both companies, with most customers in the range of 5k - 25k per month."
   ]
  },
  {
   "cell_type": "markdown",
   "id": "5035bde5",
   "metadata": {},
   "source": [
    "\n",
    "  ##### 2.2 *Group by city*"
   ]
  },
  {
   "cell_type": "code",
   "execution_count": 26,
   "id": "d2af7adc",
   "metadata": {},
   "outputs": [
    {
     "data": {
      "text/plain": [
       "Text(0.5, 1.0, 'Number of Transactions by City')"
      ]
     },
     "execution_count": 26,
     "metadata": {},
     "output_type": "execute_result"
    },
    {
     "data": {
      "image/png": "[encoded data removed]",
      "text/plain": [
       "<Figure size 432x288 with 1 Axes>"
      ]
     },
     "metadata": {
      "needs_background": "light"
     },
     "output_type": "display_data"
    }
   ],
   "source": [
    "#profitByCity.columns = [\"City\", \"Yellow\", \"Pink\"]\n",
    "#countplot(data = yellow, x = \"City\", color = \"y\")\n",
    "#countplot(data = pink, x = \"City\", color = 'crimson')\n",
    "countplot(data = allTransactions, x = \"City\", hue = \"Company\", palette = [\"y\", \"crimson\"])\n",
    "xticks(rotation = 90)\n",
    "title(\"Number of Transactions by City\")"
   ]
  },
  {
   "cell_type": "markdown",
   "id": "fe0e7eff",
   "metadata": {},
   "source": [
    "The figure above shows the number of transactions made by the two companies grouped by cities. As we can see Yellow Cab has a significantly larger amount of transactions in the biggest cities like New York and Chicago. As for smaller cities (well they're still very large ones, here I mean compared to NYC or LA), the two companies seem to have similar market share."
   ]
  },
  {
   "cell_type": "code",
   "execution_count": 27,
   "id": "a1550f01",
   "metadata": {},
   "outputs": [],
   "source": [
    "profitByCity = allTransactions.groupby([\"City\", \"Company\"], as_index = False)[\"Profit\"].sum()\n",
    "profitByCityYellow = profitByCity[profitByCity[\"Company\"] == \"Yellow Cab\"]\n",
    "profitByCityPink = profitByCity[profitByCity[\"Company\"] == \"Pink Cab\"]"
   ]
  },
  {
   "cell_type": "code",
   "execution_count": 28,
   "id": "a85a8691",
   "metadata": {},
   "outputs": [
    {
     "data": {
      "text/plain": [
       "Text(0.5, 1.0, 'Total Profit by City')"
      ]
     },
     "execution_count": 28,
     "metadata": {},
     "output_type": "execute_result"
    },
    {
     "data": {
      "image/png": "[encoded data removed]",
      "text/plain": [
       "<Figure size 449x360 with 1 Axes>"
      ]
     },
     "metadata": {
      "needs_background": "light"
     },
     "output_type": "display_data"
    }
   ],
   "source": [
    "#catplot(data = profitByCityYellow, x = \"City\", color = \"y\")\n",
    "catplot(data = profitByCity, x = \"City\", y = \"Profit\", hue = \"Company\", kind = \"bar\", palette = [\"crimson\", \"y\"])\n",
    "xticks(rotation = 90)\n",
    "title(\"Total Profit by City\")"
   ]
  },
  {
   "cell_type": "markdown",
   "id": "f5bab3a2",
   "metadata": {},
   "source": [
    "However, if we turn to total **profit** instead of **number of transactions**, this time Yellow Cab outweighs Pink Cab in all circumstances.\n",
    "\n",
    "---"
   ]
  },
  {
   "cell_type": "markdown",
   "id": "7c549b45",
   "metadata": {},
   "source": [
    "Yellow Cab and Pink Cab has similar **customer distributions**, but Yellow Cab makes more money no matter **in total** or **per kilometer**. And this trend is uniform across the country. Therefore, we should invest in **Yellow Cab**.\n",
    "\n",
    "-----"
   ]
  },
  {
   "cell_type": "markdown",
   "id": "2105e38b",
   "metadata": {},
   "source": [
    "(Research down this line carried out for **Yellow Cab** only as we have confirmed it to invest.)"
   ]
  },
  {
   "cell_type": "markdown",
   "id": "dac77451",
   "metadata": {},
   "source": [
    "- #### Research question 3: Is there an increase in profit on weekends and holidays? If yes, how much?"
   ]
  },
  {
   "cell_type": "code",
   "execution_count": 31,
   "id": "07f522b3",
   "metadata": {},
   "outputs": [
    {
     "data": {
      "text/html": [
       "<div>\n",
       "<style scoped>\n",
       "    .dataframe tbody tr th:only-of-type {\n",
       "        vertical-align: middle;\n",
       "    }\n",
       "\n",
       "    .dataframe tbody tr th {\n",
       "        vertical-align: top;\n",
       "    }\n",
       "\n",
       "    .dataframe thead th {\n",
       "        text-align: right;\n",
       "    }\n",
       "</style>\n",
       "<table border=\"1\" class=\"dataframe\">\n",
       "  <thead>\n",
       "    <tr style=\"text-align: right;\">\n",
       "      <th></th>\n",
       "      <th>Profit</th>\n",
       "      <th>Profit per km</th>\n",
       "    </tr>\n",
       "    <tr>\n",
       "      <th>Weekend or Holiday</th>\n",
       "      <th></th>\n",
       "      <th></th>\n",
       "    </tr>\n",
       "  </thead>\n",
       "  <tbody>\n",
       "    <tr>\n",
       "      <th>0</th>\n",
       "      <td>114.044540</td>\n",
       "      <td>5.855161</td>\n",
       "    </tr>\n",
       "    <tr>\n",
       "      <th>1</th>\n",
       "      <td>124.431919</td>\n",
       "      <td>6.544999</td>\n",
       "    </tr>\n",
       "  </tbody>\n",
       "</table>\n",
       "</div>"
      ],
      "text/plain": [
       "                        Profit  Profit per km\n",
       "Weekend or Holiday                           \n",
       "0                   114.044540       5.855161\n",
       "1                   124.431919       6.544999"
      ]
     },
     "execution_count": 31,
     "metadata": {},
     "output_type": "execute_result"
    }
   ],
   "source": [
    "yellow.groupby(\"Weekend or Holiday\").agg(\"mean\")[[\"Profit\", \"Profit per km\"]]"
   ]
  },
  {
   "cell_type": "markdown",
   "id": "f7b016a0",
   "metadata": {},
   "source": [
    "As shown in the table above, Yellow Cab has a boost of total profit by **9.1%** and unit profit by **11.8%** for weekend and holidays than weekdays.\n",
    "\n",
    "---"
   ]
  },
  {
   "cell_type": "markdown",
   "id": "c0bccf6f",
   "metadata": {},
   "source": [
    "- #### Research Question 4: What are some good cities to invest?\n",
    "    ##### 4.1 Of what percentage of the population are cab users?"
   ]
  },
  {
   "cell_type": "code",
   "execution_count": 60,
   "id": "f74d5113",
   "metadata": {},
   "outputs": [
    {
     "data": {
      "text/plain": [
       "Text(0.5, 1.0, 'Pencentage of Users by City')"
      ]
     },
     "execution_count": 60,
     "metadata": {},
     "output_type": "execute_result"
    },
    {
     "data": {
      "image/png": "[encoded data removed]",
      "text/plain": [
       "<Figure size 432x288 with 1 Axes>"
      ]
     },
     "metadata": {
      "needs_background": "light"
     },
     "output_type": "display_data"
    }
   ],
   "source": [
    "city[\"Ratio\"] = city[\"Users\"].str.replace(',', '').astype(float) / city[\"Population\"].str.replace(',', '').astype(float)\n",
    "barplot(data = city, x = \"City\", y = \"Ratio\")\n",
    "xticks(rotation = 90)\n",
    "title(\"Pencentage of Users by City\")"
   ]
  },
  {
   "cell_type": "markdown",
   "id": "61270866",
   "metadata": {},
   "source": [
    "Top three cities, namely San Francisco, Boston, and DC, have about 30% of the total population as cab users. These cities would be the best for advertising."
   ]
  },
  {
   "cell_type": "markdown",
   "id": "9bf68d49",
   "metadata": {},
   "source": [
    "    \n",
    "  ##### 4.2 Profit per trip by city"
   ]
  },
  {
   "cell_type": "code",
   "execution_count": null,
   "id": "db074d5d",
   "metadata": {},
   "outputs": [],
   "source": [
    "# Convert string value of population data into float\n",
    "yellow[\"Population\"] = yellow[\"Population\"].str.replace(',', '').astype(float)"
   ]
  },
  {
   "cell_type": "code",
   "execution_count": 79,
   "id": "99b9cbca",
   "metadata": {},
   "outputs": [
    {
     "data": {
      "text/plain": [
       "Text(0.5, 1.0, 'Average Profit on a Single Trip by City')"
      ]
     },
     "execution_count": 79,
     "metadata": {},
     "output_type": "execute_result"
    },
    {
     "data": {
      "image/png": "[encoded data removed]",
      "text/plain": [
       "<Figure size 432x288 with 1 Axes>"
      ]
     },
     "metadata": {
      "needs_background": "light"
     },
     "output_type": "display_data"
    }
   ],
   "source": [
    "city = yellow[[\"City\", \"Profit\", \"Population\"]].groupby(\"City\").agg({\"Profit\":[\"sum\", \"count\"]})\n",
    "city[\"Unit Profit\"] = city.iloc[:,0] / city.iloc[:,1]\n",
    "barplot(data = city, x = city.index, y = \"Unit Profit\")\n",
    "xticks(rotation = 90)\n",
    "title(\"Average Profit on a Single Trip by City\")\n",
    "#pie(city)\n",
    "#yellow[\"Profit per Capita\"] = yellow[\"Profit\"] / yellow[\"Population\"].str.replace(',', '').astype(float)"
   ]
  },
  {
   "cell_type": "markdown",
   "id": "b342f650",
   "metadata": {},
   "source": [
    "##### 4.3 Profit per kilometer by city"
   ]
  },
  {
   "cell_type": "code",
   "execution_count": 89,
   "id": "835236ad",
   "metadata": {},
   "outputs": [
    {
     "data": {
      "text/html": [
       "<div>\n",
       "<style scoped>\n",
       "    .dataframe tbody tr th:only-of-type {\n",
       "        vertical-align: middle;\n",
       "    }\n",
       "\n",
       "    .dataframe tbody tr th {\n",
       "        vertical-align: top;\n",
       "    }\n",
       "\n",
       "    .dataframe thead tr th {\n",
       "        text-align: left;\n",
       "    }\n",
       "\n",
       "    .dataframe thead tr:last-of-type th {\n",
       "        text-align: right;\n",
       "    }\n",
       "</style>\n",
       "<table border=\"1\" class=\"dataframe\">\n",
       "  <thead>\n",
       "    <tr>\n",
       "      <th></th>\n",
       "      <th>Profit</th>\n",
       "      <th>KM Travelled</th>\n",
       "      <th>Profit per KM</th>\n",
       "    </tr>\n",
       "    <tr>\n",
       "      <th></th>\n",
       "      <th>sum</th>\n",
       "      <th>sum</th>\n",
       "      <th></th>\n",
       "    </tr>\n",
       "    <tr>\n",
       "      <th>City</th>\n",
       "      <th></th>\n",
       "      <th></th>\n",
       "      <th></th>\n",
       "    </tr>\n",
       "  </thead>\n",
       "  <tbody>\n",
       "    <tr>\n",
       "      <th>ATLANTA GA</th>\n",
       "      <td>6.736865e+05</td>\n",
       "      <td>123343.82</td>\n",
       "      <td>5.461859</td>\n",
       "    </tr>\n",
       "    <tr>\n",
       "      <th>AUSTIN TX</th>\n",
       "      <td>3.314269e+05</td>\n",
       "      <td>64816.71</td>\n",
       "      <td>5.113293</td>\n",
       "    </tr>\n",
       "    <tr>\n",
       "      <th>BOSTON MA</th>\n",
       "      <td>1.504507e+06</td>\n",
       "      <td>550468.45</td>\n",
       "      <td>2.733139</td>\n",
       "    </tr>\n",
       "    <tr>\n",
       "      <th>CHICAGO IL</th>\n",
       "      <td>3.007395e+06</td>\n",
       "      <td>1063875.82</td>\n",
       "      <td>2.826829</td>\n",
       "    </tr>\n",
       "    <tr>\n",
       "      <th>DALLAS TX</th>\n",
       "      <td>8.353283e+05</td>\n",
       "      <td>108710.85</td>\n",
       "      <td>7.683946</td>\n",
       "    </tr>\n",
       "    <tr>\n",
       "      <th>DENVER CO</th>\n",
       "      <td>3.049427e+05</td>\n",
       "      <td>50808.43</td>\n",
       "      <td>6.001813</td>\n",
       "    </tr>\n",
       "    <tr>\n",
       "      <th>LOS ANGELES CA</th>\n",
       "      <td>3.057067e+06</td>\n",
       "      <td>621456.91</td>\n",
       "      <td>4.919194</td>\n",
       "    </tr>\n",
       "    <tr>\n",
       "      <th>MIAMI FL</th>\n",
       "      <td>5.317716e+05</td>\n",
       "      <td>95983.43</td>\n",
       "      <td>5.540244</td>\n",
       "    </tr>\n",
       "    <tr>\n",
       "      <th>NASHVILLE TN</th>\n",
       "      <td>8.166121e+04</td>\n",
       "      <td>26407.29</td>\n",
       "      <td>3.092374</td>\n",
       "    </tr>\n",
       "    <tr>\n",
       "      <th>NEW YORK NY</th>\n",
       "      <td>1.323096e+07</td>\n",
       "      <td>1127017.48</td>\n",
       "      <td>11.739796</td>\n",
       "    </tr>\n",
       "    <tr>\n",
       "      <th>ORANGE COUNTY</th>\n",
       "      <td>2.709977e+05</td>\n",
       "      <td>50043.22</td>\n",
       "      <td>5.415274</td>\n",
       "    </tr>\n",
       "    <tr>\n",
       "      <th>PHOENIX AZ</th>\n",
       "      <td>1.397953e+05</td>\n",
       "      <td>25794.04</td>\n",
       "      <td>5.419675</td>\n",
       "    </tr>\n",
       "    <tr>\n",
       "      <th>PITTSBURGH PA</th>\n",
       "      <td>5.410758e+04</td>\n",
       "      <td>13513.77</td>\n",
       "      <td>4.003885</td>\n",
       "    </tr>\n",
       "    <tr>\n",
       "      <th>SACRAMENTO CA</th>\n",
       "      <td>5.701878e+04</td>\n",
       "      <td>23123.16</td>\n",
       "      <td>2.465873</td>\n",
       "    </tr>\n",
       "    <tr>\n",
       "      <th>SAN DIEGO CA</th>\n",
       "      <td>9.174094e+05</td>\n",
       "      <td>217173.05</td>\n",
       "      <td>4.224324</td>\n",
       "    </tr>\n",
       "    <tr>\n",
       "      <th>SEATTLE WA</th>\n",
       "      <td>4.681511e+05</td>\n",
       "      <td>117108.04</td>\n",
       "      <td>3.997600</td>\n",
       "    </tr>\n",
       "    <tr>\n",
       "      <th>SILICON VALLEY</th>\n",
       "      <td>7.468101e+05</td>\n",
       "      <td>91329.34</td>\n",
       "      <td>8.177111</td>\n",
       "    </tr>\n",
       "    <tr>\n",
       "      <th>TUCSON AZ</th>\n",
       "      <td>7.735957e+04</td>\n",
       "      <td>24827.51</td>\n",
       "      <td>3.115881</td>\n",
       "    </tr>\n",
       "    <tr>\n",
       "      <th>WASHINGTON DC</th>\n",
       "      <td>3.232122e+06</td>\n",
       "      <td>899925.28</td>\n",
       "      <td>3.591544</td>\n",
       "    </tr>\n",
       "  </tbody>\n",
       "</table>\n",
       "</div>"
      ],
      "text/plain": [
       "                      Profit KM Travelled Profit per KM\n",
       "                         sum          sum              \n",
       "City                                                   \n",
       "ATLANTA GA      6.736865e+05    123343.82      5.461859\n",
       "AUSTIN TX       3.314269e+05     64816.71      5.113293\n",
       "BOSTON MA       1.504507e+06    550468.45      2.733139\n",
       "CHICAGO IL      3.007395e+06   1063875.82      2.826829\n",
       "DALLAS TX       8.353283e+05    108710.85      7.683946\n",
       "DENVER CO       3.049427e+05     50808.43      6.001813\n",
       "LOS ANGELES CA  3.057067e+06    621456.91      4.919194\n",
       "MIAMI FL        5.317716e+05     95983.43      5.540244\n",
       "NASHVILLE TN    8.166121e+04     26407.29      3.092374\n",
       "NEW YORK NY     1.323096e+07   1127017.48     11.739796\n",
       "ORANGE COUNTY   2.709977e+05     50043.22      5.415274\n",
       "PHOENIX AZ      1.397953e+05     25794.04      5.419675\n",
       "PITTSBURGH PA   5.410758e+04     13513.77      4.003885\n",
       "SACRAMENTO CA   5.701878e+04     23123.16      2.465873\n",
       "SAN DIEGO CA    9.174094e+05    217173.05      4.224324\n",
       "SEATTLE WA      4.681511e+05    117108.04      3.997600\n",
       "SILICON VALLEY  7.468101e+05     91329.34      8.177111\n",
       "TUCSON AZ       7.735957e+04     24827.51      3.115881\n",
       "WASHINGTON DC   3.232122e+06    899925.28      3.591544"
      ]
     },
     "execution_count": 89,
     "metadata": {},
     "output_type": "execute_result"
    },
    {
     "data": {
      "image/png": "[encoded data removed]",
      "text/plain": [
       "<Figure size 432x288 with 1 Axes>"
      ]
     },
     "metadata": {
      "needs_background": "light"
     },
     "output_type": "display_data"
    }
   ],
   "source": [
    "cityPerKM = yellow[[\"City\", \"Profit\", \"KM Travelled\"]].groupby(\"City\").agg({\"Profit\":[\"sum\"], \"KM Travelled\": \"sum\"})\n",
    "cityPerKM[\"Profit per KM\"] = cityPerKM.iloc[:,0] / cityPerKM.iloc[:,1]\n",
    "barplot(data = cityPerKM, x = cityPerKM.index, y = \"Profit per KM\")\n",
    "xticks(rotation = 90)\n",
    "title(\"Profit on Unit Distance by City\")\n",
    "cityPerKM"
   ]
  },
  {
   "cell_type": "markdown",
   "id": "5f917b32",
   "metadata": {},
   "source": [
    "The two plots above show similar results. New York City, Silicon Valley, and Dallas are the three cities with the most unit profit (per trip and per kilometer)."
   ]
  },
  {
   "cell_type": "markdown",
   "id": "6ec79b45",
   "metadata": {},
   "source": [
    "Therefore, it's better to invest in **larger cities** as these provide more profit both on a single trip and annually (total profit plot is shown in section 2.2). Also, there're more white collars in larger cities, so it's not likely that our investment would fail. However, data related to **cost of advertisement** and **competitions** (these are usually harsher in larger cities) are not provided. Thus, this result still needs more advanced research.\n",
    "\n",
    "---"
   ]
  },
  {
   "cell_type": "markdown",
   "id": "3a835bfe",
   "metadata": {},
   "source": [
    "- #### Research question 5: What is the ideal range of income for our customers? (ie. At which income level do we have maximum profit?)"
   ]
  },
  {
   "cell_type": "code",
   "execution_count": 102,
   "id": "0249cba9",
   "metadata": {},
   "outputs": [
    {
     "data": {
      "text/plain": [
       "count    249137.000000\n",
       "mean      15027.357643\n",
       "std        7968.327373\n",
       "min        2000.000000\n",
       "25%        8408.000000\n",
       "50%       14646.000000\n",
       "75%       21016.000000\n",
       "max       34996.000000\n",
       "Name: Income (USD/Month), dtype: float64"
      ]
     },
     "execution_count": 102,
     "metadata": {},
     "output_type": "execute_result"
    }
   ],
   "source": [
    "income = yellow[[\"Income (USD/Month)\", \"Profit\"]]\n",
    "income[\"Income (USD/Month)\"].describe()"
   ]
  },
  {
   "cell_type": "code",
   "execution_count": 116,
   "id": "82ea7194",
   "metadata": {},
   "outputs": [
    {
     "name": "stderr",
     "output_type": "stream",
     "text": [
      "<ipython-input-116-5f8ca58c21b7>:18: SettingWithCopyWarning: \n",
      "A value is trying to be set on a copy of a slice from a DataFrame.\n",
      "Try using .loc[row_indexer,col_indexer] = value instead\n",
      "\n",
      "See the caveats in the documentation: https://pandas.pydata.org/pandas-docs/stable/user_guide/indexing.html#returning-a-view-versus-a-copy\n",
      "  income[\"Income Range\"] = income[\"Income (USD/Month)\"].apply(sortIncome)\n"
     ]
    },
    {
     "data": {
      "text/html": [
       "<div>\n",
       "<style scoped>\n",
       "    .dataframe tbody tr th:only-of-type {\n",
       "        vertical-align: middle;\n",
       "    }\n",
       "\n",
       "    .dataframe tbody tr th {\n",
       "        vertical-align: top;\n",
       "    }\n",
       "\n",
       "    .dataframe thead th {\n",
       "        text-align: right;\n",
       "    }\n",
       "</style>\n",
       "<table border=\"1\" class=\"dataframe\">\n",
       "  <thead>\n",
       "    <tr style=\"text-align: right;\">\n",
       "      <th></th>\n",
       "      <th>Profit</th>\n",
       "    </tr>\n",
       "    <tr>\n",
       "      <th>Income Range</th>\n",
       "      <th></th>\n",
       "    </tr>\n",
       "  </thead>\n",
       "  <tbody>\n",
       "    <tr>\n",
       "      <th>10000 - 15000</th>\n",
       "      <td>118.249999</td>\n",
       "    </tr>\n",
       "    <tr>\n",
       "      <th>15000 - 20000</th>\n",
       "      <td>120.435792</td>\n",
       "    </tr>\n",
       "    <tr>\n",
       "      <th>2000 - 4000</th>\n",
       "      <td>118.053996</td>\n",
       "    </tr>\n",
       "    <tr>\n",
       "      <th>4000 - 6000</th>\n",
       "      <td>118.585726</td>\n",
       "    </tr>\n",
       "    <tr>\n",
       "      <th>6000 - 8000</th>\n",
       "      <td>116.428756</td>\n",
       "    </tr>\n",
       "    <tr>\n",
       "      <th>8000 - 10000</th>\n",
       "      <td>116.357120</td>\n",
       "    </tr>\n",
       "    <tr>\n",
       "      <th>&gt; 20000</th>\n",
       "      <td>118.589999</td>\n",
       "    </tr>\n",
       "  </tbody>\n",
       "</table>\n",
       "</div>"
      ],
      "text/plain": [
       "                   Profit\n",
       "Income Range             \n",
       "10000 - 15000  118.249999\n",
       "15000 - 20000  120.435792\n",
       "2000 - 4000    118.053996\n",
       "4000 - 6000    118.585726\n",
       "6000 - 8000    116.428756\n",
       "8000 - 10000   116.357120\n",
       "> 20000        118.589999"
      ]
     },
     "execution_count": 116,
     "metadata": {},
     "output_type": "execute_result"
    }
   ],
   "source": [
    "# Helper function to sort income level\n",
    "def sortIncome(income):\n",
    "    if income < 4000:\n",
    "        return \"2000 - 4000\"\n",
    "    elif income < 6000:\n",
    "        return \"4000 - 6000\"\n",
    "    elif income < 8000:\n",
    "        return \"6000 - 8000\"\n",
    "    elif income < 10000:\n",
    "        return \"8000 - 10000\"\n",
    "    elif income < 15000:\n",
    "        return \"10000 - 15000\"\n",
    "    elif income < 20000:\n",
    "        return \"15000 - 20000\"\n",
    "    else:\n",
    "        return \"> 20000\"\n",
    "\n",
    "income[\"Income Range\"] = income[\"Income (USD/Month)\"].apply(sortIncome)\n",
    "income.groupby(\"Income Range\").agg({\"Profit\":\"mean\"})"
   ]
  },
  {
   "cell_type": "markdown",
   "id": "bf5d49ec",
   "metadata": {},
   "source": [
    "As shown from the table, the profit from a single trip is very similar among all income groups, all around 118USD.\n",
    "\n",
    "\n",
    "\n",
    "---"
   ]
  },
  {
   "cell_type": "markdown",
   "id": "e8990ed0",
   "metadata": {},
   "source": [
    "## Conclusion"
   ]
  },
  {
   "cell_type": "markdown",
   "id": "273ca654",
   "metadata": {},
   "source": [
    "In this study, **EDA** was used to identify a better cab company to invest among Yellow Cab and Pink Cab. Several factors were taken into account, such as **profit distribution**, **customer attributes**, and characteristics **grouped by city**. The two companies has similar customer composition, but Yellow Cab outweighs Pink Cab in total profit, per kilometer profit, and almost in all cities. Therefore, we suggest to invest in **Yellow Cab**. And finally, investing in the few **largest cities** gives the most payback according to our plots."
   ]
  },
  {
   "cell_type": "code",
   "execution_count": null,
   "id": "74fb77c5",
   "metadata": {},
   "outputs": [],
   "source": []
  }
 ],
 "metadata": {
  "kernelspec": {
   "display_name": "Python 3",
   "language": "python",
   "name": "python3"
  },
  "language_info": {
   "codemirror_mode": {
    "name": "ipython",
    "version": 3
   },
   "file_extension": ".py",
   "mimetype": "text/x-python",
   "name": "python",
   "nbconvert_exporter": "python",
   "pygments_lexer": "ipython3",
   "version": "3.8.8"
  }
 },
 "nbformat": 4,
 "nbformat_minor": 5
}
